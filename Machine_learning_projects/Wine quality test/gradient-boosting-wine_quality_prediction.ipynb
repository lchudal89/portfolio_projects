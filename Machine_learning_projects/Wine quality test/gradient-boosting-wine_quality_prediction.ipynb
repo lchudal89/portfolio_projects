{
 "cells": [
  {
   "cell_type": "code",
   "execution_count": 1,
   "id": "604c9bc1",
   "metadata": {
    "_cell_guid": "b1076dfc-b9ad-4769-8c92-a6c4dae69d19",
    "_uuid": "8f2839f25d086af736a60e9eeb907d3b93b6e0e5",
    "execution": {
     "iopub.execute_input": "2023-02-08T01:01:28.295962Z",
     "iopub.status.busy": "2023-02-08T01:01:28.295556Z",
     "iopub.status.idle": "2023-02-08T01:01:28.308604Z",
     "shell.execute_reply": "2023-02-08T01:01:28.307472Z"
    },
    "papermill": {
     "duration": 0.021643,
     "end_time": "2023-02-08T01:01:28.311196",
     "exception": false,
     "start_time": "2023-02-08T01:01:28.289553",
     "status": "completed"
    },
    "tags": []
   },
   "outputs": [
    {
     "name": "stdout",
     "output_type": "stream",
     "text": [
      "/kaggle/input/playground-series-s3e5/sample_submission.csv\n",
      "/kaggle/input/playground-series-s3e5/train.csv\n",
      "/kaggle/input/playground-series-s3e5/test.csv\n"
     ]
    }
   ],
   "source": [
    "# This Python 3 environment comes with many helpful analytics libraries installed\n",
    "# It is defined by the kaggle/python Docker image: https://github.com/kaggle/docker-python\n",
    "# For example, here's several helpful packages to load\n",
    "\n",
    "import numpy as np # linear algebra\n",
    "import pandas as pd # data processing, CSV file I/O (e.g. pd.read_csv)\n",
    "\n",
    "# Input data files are available in the read-only \"../input/\" directory\n",
    "# For example, running this (by clicking run or pressing Shift+Enter) will list all files under the input directory\n",
    "\n",
    "import os\n",
    "for dirname, _, filenames in os.walk('/kaggle/input'):\n",
    "    for filename in filenames:\n",
    "        print(os.path.join(dirname, filename))\n",
    "\n",
    "# You can write up to 20GB to the current directory (/kaggle/working/) that gets preserved as output when you create a version using \"Save & Run All\" \n",
    "# You can also write temporary files to /kaggle/temp/, but they won't be saved outside of the current session"
   ]
  },
  {
   "cell_type": "code",
   "execution_count": 2,
   "id": "afc2c6a2",
   "metadata": {
    "execution": {
     "iopub.execute_input": "2023-02-08T01:01:28.320798Z",
     "iopub.status.busy": "2023-02-08T01:01:28.320402Z",
     "iopub.status.idle": "2023-02-08T01:01:29.807498Z",
     "shell.execute_reply": "2023-02-08T01:01:29.805971Z"
    },
    "papermill": {
     "duration": 1.494909,
     "end_time": "2023-02-08T01:01:29.810352",
     "exception": false,
     "start_time": "2023-02-08T01:01:28.315443",
     "status": "completed"
    },
    "tags": []
   },
   "outputs": [],
   "source": [
    "import matplotlib.pyplot as plt\n",
    "import seaborn as sns\n",
    "import warnings \n",
    "warnings.simplefilter('ignore')\n",
    "import numpy as np\n",
    "import pandas as pd\n",
    "from sklearn.model_selection import train_test_split\n",
    "from sklearn.model_selection import GridSearchCV\n",
    "from sklearn.tree import DecisionTreeClassifier\n",
    "from sklearn.ensemble import RandomForestClassifier\n",
    "from sklearn.ensemble import GradientBoostingClassifier\n",
    "from sklearn.neighbors import KNeighborsClassifier\n",
    "from sklearn.metrics import cohen_kappa_score"
   ]
  },
  {
   "cell_type": "code",
   "execution_count": 3,
   "id": "e1af62ce",
   "metadata": {
    "execution": {
     "iopub.execute_input": "2023-02-08T01:01:29.820085Z",
     "iopub.status.busy": "2023-02-08T01:01:29.819682Z",
     "iopub.status.idle": "2023-02-08T01:01:29.861879Z",
     "shell.execute_reply": "2023-02-08T01:01:29.860705Z"
    },
    "papermill": {
     "duration": 0.049843,
     "end_time": "2023-02-08T01:01:29.864008",
     "exception": false,
     "start_time": "2023-02-08T01:01:29.814165",
     "status": "completed"
    },
    "tags": []
   },
   "outputs": [],
   "source": [
    "train=pd.read_csv('/kaggle/input/playground-series-s3e5/train.csv')\n",
    "sub=pd.read_csv('/kaggle/input/playground-series-s3e5/sample_submission.csv')\n",
    "test=pd.read_csv('/kaggle/input/playground-series-s3e5/test.csv')"
   ]
  },
  {
   "cell_type": "markdown",
   "id": "b9d1d091",
   "metadata": {
    "papermill": {
     "duration": 0.003159,
     "end_time": "2023-02-08T01:01:29.870983",
     "exception": false,
     "start_time": "2023-02-08T01:01:29.867824",
     "status": "completed"
    },
    "tags": []
   },
   "source": [
    "## Data normalization"
   ]
  },
  {
   "cell_type": "code",
   "execution_count": 4,
   "id": "2884b8ba",
   "metadata": {
    "execution": {
     "iopub.execute_input": "2023-02-08T01:01:29.880111Z",
     "iopub.status.busy": "2023-02-08T01:01:29.879252Z",
     "iopub.status.idle": "2023-02-08T01:01:29.896299Z",
     "shell.execute_reply": "2023-02-08T01:01:29.895110Z"
    },
    "papermill": {
     "duration": 0.02428,
     "end_time": "2023-02-08T01:01:29.898756",
     "exception": false,
     "start_time": "2023-02-08T01:01:29.874476",
     "status": "completed"
    },
    "tags": []
   },
   "outputs": [],
   "source": [
    "y=train.pop('quality')\n",
    "x=train.drop('Id',axis=1)"
   ]
  },
  {
   "cell_type": "code",
   "execution_count": 5,
   "id": "d5eef18f",
   "metadata": {
    "execution": {
     "iopub.execute_input": "2023-02-08T01:01:29.907713Z",
     "iopub.status.busy": "2023-02-08T01:01:29.907325Z",
     "iopub.status.idle": "2023-02-08T01:01:29.934784Z",
     "shell.execute_reply": "2023-02-08T01:01:29.933402Z"
    },
    "papermill": {
     "duration": 0.035253,
     "end_time": "2023-02-08T01:01:29.937704",
     "exception": false,
     "start_time": "2023-02-08T01:01:29.902451",
     "status": "completed"
    },
    "tags": []
   },
   "outputs": [
    {
     "data": {
      "text/html": [
       "<div>\n",
       "<style scoped>\n",
       "    .dataframe tbody tr th:only-of-type {\n",
       "        vertical-align: middle;\n",
       "    }\n",
       "\n",
       "    .dataframe tbody tr th {\n",
       "        vertical-align: top;\n",
       "    }\n",
       "\n",
       "    .dataframe thead th {\n",
       "        text-align: right;\n",
       "    }\n",
       "</style>\n",
       "<table border=\"1\" class=\"dataframe\">\n",
       "  <thead>\n",
       "    <tr style=\"text-align: right;\">\n",
       "      <th></th>\n",
       "      <th>fixed acidity</th>\n",
       "      <th>volatile acidity</th>\n",
       "      <th>citric acid</th>\n",
       "      <th>residual sugar</th>\n",
       "      <th>chlorides</th>\n",
       "      <th>free sulfur dioxide</th>\n",
       "      <th>total sulfur dioxide</th>\n",
       "      <th>density</th>\n",
       "      <th>pH</th>\n",
       "      <th>sulphates</th>\n",
       "      <th>alcohol</th>\n",
       "    </tr>\n",
       "  </thead>\n",
       "  <tbody>\n",
       "    <tr>\n",
       "      <th>0</th>\n",
       "      <td>0.275229</td>\n",
       "      <td>0.228571</td>\n",
       "      <td>0.513158</td>\n",
       "      <td>0.078125</td>\n",
       "      <td>0.151741</td>\n",
       "      <td>0.432836</td>\n",
       "      <td>0.113475</td>\n",
       "      <td>0.414831</td>\n",
       "      <td>0.567308</td>\n",
       "      <td>0.243590</td>\n",
       "      <td>0.641509</td>\n",
       "    </tr>\n",
       "    <tr>\n",
       "      <th>1</th>\n",
       "      <td>0.394495</td>\n",
       "      <td>0.085714</td>\n",
       "      <td>0.960526</td>\n",
       "      <td>0.085937</td>\n",
       "      <td>0.199005</td>\n",
       "      <td>0.432836</td>\n",
       "      <td>0.212766</td>\n",
       "      <td>0.621880</td>\n",
       "      <td>0.557692</td>\n",
       "      <td>0.179487</td>\n",
       "      <td>0.773585</td>\n",
       "    </tr>\n",
       "    <tr>\n",
       "      <th>2</th>\n",
       "      <td>0.192661</td>\n",
       "      <td>0.235714</td>\n",
       "      <td>0.039474</td>\n",
       "      <td>0.070312</td>\n",
       "      <td>0.116915</td>\n",
       "      <td>0.029851</td>\n",
       "      <td>0.017730</td>\n",
       "      <td>0.479442</td>\n",
       "      <td>0.750000</td>\n",
       "      <td>0.217949</td>\n",
       "      <td>0.490566</td>\n",
       "    </tr>\n",
       "    <tr>\n",
       "      <th>3</th>\n",
       "      <td>0.284404</td>\n",
       "      <td>0.492857</td>\n",
       "      <td>0.289474</td>\n",
       "      <td>0.109375</td>\n",
       "      <td>0.179104</td>\n",
       "      <td>0.149254</td>\n",
       "      <td>0.205674</td>\n",
       "      <td>0.530837</td>\n",
       "      <td>0.442308</td>\n",
       "      <td>0.089744</td>\n",
       "      <td>0.207547</td>\n",
       "    </tr>\n",
       "    <tr>\n",
       "      <th>4</th>\n",
       "      <td>0.321101</td>\n",
       "      <td>0.128571</td>\n",
       "      <td>0.394737</td>\n",
       "      <td>0.085937</td>\n",
       "      <td>0.166667</td>\n",
       "      <td>0.134328</td>\n",
       "      <td>0.134752</td>\n",
       "      <td>0.320852</td>\n",
       "      <td>0.442308</td>\n",
       "      <td>0.621795</td>\n",
       "      <td>0.150943</td>\n",
       "    </tr>\n",
       "  </tbody>\n",
       "</table>\n",
       "</div>"
      ],
      "text/plain": [
       "   fixed acidity  volatile acidity  citric acid  residual sugar  chlorides  \\\n",
       "0       0.275229          0.228571     0.513158        0.078125   0.151741   \n",
       "1       0.394495          0.085714     0.960526        0.085937   0.199005   \n",
       "2       0.192661          0.235714     0.039474        0.070312   0.116915   \n",
       "3       0.284404          0.492857     0.289474        0.109375   0.179104   \n",
       "4       0.321101          0.128571     0.394737        0.085937   0.166667   \n",
       "\n",
       "   free sulfur dioxide  total sulfur dioxide   density        pH  sulphates  \\\n",
       "0             0.432836              0.113475  0.414831  0.567308   0.243590   \n",
       "1             0.432836              0.212766  0.621880  0.557692   0.179487   \n",
       "2             0.029851              0.017730  0.479442  0.750000   0.217949   \n",
       "3             0.149254              0.205674  0.530837  0.442308   0.089744   \n",
       "4             0.134328              0.134752  0.320852  0.442308   0.621795   \n",
       "\n",
       "    alcohol  \n",
       "0  0.641509  \n",
       "1  0.773585  \n",
       "2  0.490566  \n",
       "3  0.207547  \n",
       "4  0.150943  "
      ]
     },
     "execution_count": 5,
     "metadata": {},
     "output_type": "execute_result"
    }
   ],
   "source": [
    "# min max normalization\n",
    "def min_max_normalization(df):\n",
    "    return (df - df.min()) /(df.max()-df.min())\n",
    "x=min_max_normalization(x)\n",
    "x.head()"
   ]
  },
  {
   "cell_type": "code",
   "execution_count": 6,
   "id": "67ee767f",
   "metadata": {
    "execution": {
     "iopub.execute_input": "2023-02-08T01:01:29.947357Z",
     "iopub.status.busy": "2023-02-08T01:01:29.946921Z",
     "iopub.status.idle": "2023-02-08T01:01:29.952346Z",
     "shell.execute_reply": "2023-02-08T01:01:29.950856Z"
    },
    "papermill": {
     "duration": 0.013428,
     "end_time": "2023-02-08T01:01:29.955169",
     "exception": false,
     "start_time": "2023-02-08T01:01:29.941741",
     "status": "completed"
    },
    "tags": []
   },
   "outputs": [],
   "source": [
    "# # z_score normaliation\n",
    "# def z_score_normalization(df):\n",
    "#     return (df - df.mean()) /df.std()\n",
    "# x=z_score_normalization(x)\n",
    "# x.head()"
   ]
  },
  {
   "cell_type": "markdown",
   "id": "bbe7585d",
   "metadata": {
    "papermill": {
     "duration": 0.003477,
     "end_time": "2023-02-08T01:01:29.962557",
     "exception": false,
     "start_time": "2023-02-08T01:01:29.959080",
     "status": "completed"
    },
    "tags": []
   },
   "source": [
    "# Model"
   ]
  },
  {
   "cell_type": "code",
   "execution_count": 7,
   "id": "762c3db5",
   "metadata": {
    "execution": {
     "iopub.execute_input": "2023-02-08T01:01:29.971676Z",
     "iopub.status.busy": "2023-02-08T01:01:29.971316Z",
     "iopub.status.idle": "2023-02-08T01:01:29.976930Z",
     "shell.execute_reply": "2023-02-08T01:01:29.975662Z"
    },
    "papermill": {
     "duration": 0.013147,
     "end_time": "2023-02-08T01:01:29.979544",
     "exception": false,
     "start_time": "2023-02-08T01:01:29.966397",
     "status": "completed"
    },
    "tags": []
   },
   "outputs": [],
   "source": [
    "# from sklearn.ensemble import GradientBoostingClassifier\n",
    "# from sklearn.model_selection import GridSearchCV\n",
    "# train_x,val_x,train_y,val_y=train_test_split(x,y,train_size=0.75,random_state=1)\n",
    "# # Define the parameter grid to search\n",
    "# param_grid = {'loss':['log_loss','deviance','exponential'],\n",
    "#               'learning_rate': [0.1, 0.05, 0.01],\n",
    "#               'n_estimators': [50,75,100, 200],\n",
    "#               'max_depth': [1, 3, 5,8,10],\n",
    "#              'criterion':['friedman_mse','squared_error'],\n",
    "#               'max_features':['auto','sqrt','log2'],\n",
    "#              'ccp_alpha':[0,0.001,0.01]}\n",
    "\n",
    "# # Initialize the GradientBoostingClassifier\n",
    "# gbc = GradientBoostingClassifier()\n",
    "\n",
    "# # Use GridSearchCV to find the best hyperparameters for the classifier\n",
    "# grid_search = GridSearchCV(gbc, param_grid, cv=5)\n",
    "# grid_search.fit(train_x, train_y)\n",
    "\n",
    "# # Print the best hyperparameters found by GridSearchCV\n",
    "# print(\"Best hyperparameters: \", grid_search.best_params_)\n"
   ]
  },
  {
   "cell_type": "markdown",
   "id": "1c8c9d37",
   "metadata": {
    "papermill": {
     "duration": 0.00336,
     "end_time": "2023-02-08T01:01:29.986759",
     "exception": false,
     "start_time": "2023-02-08T01:01:29.983399",
     "status": "completed"
    },
    "tags": []
   },
   "source": [
    "## GradiantBoostClassifier"
   ]
  },
  {
   "cell_type": "markdown",
   "id": "21e57452",
   "metadata": {
    "papermill": {
     "duration": 0.003461,
     "end_time": "2023-02-08T01:01:29.993873",
     "exception": false,
     "start_time": "2023-02-08T01:01:29.990412",
     "status": "completed"
    },
    "tags": []
   },
   "source": [
    "optimized_hyperparametertuning:\n",
    "\n",
    "Best hyperparameters:  {'ccp_alpha': 0.001, 'criterion': 'friedman_mse', 'learning_rate': 0.1, 'loss': 'deviance', 'max_depth': 8, 'max_features': 'sqrt', 'n_estimators': 200}"
   ]
  },
  {
   "cell_type": "code",
   "execution_count": 8,
   "id": "6636354f",
   "metadata": {
    "execution": {
     "iopub.execute_input": "2023-02-08T01:01:30.003094Z",
     "iopub.status.busy": "2023-02-08T01:01:30.002686Z",
     "iopub.status.idle": "2023-02-08T01:01:30.406778Z",
     "shell.execute_reply": "2023-02-08T01:01:30.405470Z"
    },
    "papermill": {
     "duration": 0.411697,
     "end_time": "2023-02-08T01:01:30.409327",
     "exception": false,
     "start_time": "2023-02-08T01:01:29.997630",
     "status": "completed"
    },
    "tags": []
   },
   "outputs": [
    {
     "name": "stdout",
     "output_type": "stream",
     "text": [
      "0.391415057298957 0.3320016365430435\n"
     ]
    }
   ],
   "source": [
    "train_x,val_x,train_y,val_y=train_test_split(x,y,train_size=0.75,random_state=1)\n",
    "model=GradientBoostingClassifier(criterion='squared_error',learning_rate=0.1, loss='deviance',\n",
    "                              max_depth=2,max_features='sqrt',n_estimators=50, random_state=1,ccp_alpha=0.001)\n",
    "model.fit(train_x,train_y)\n",
    "y_pred=model.predict(train_x)\n",
    "val_pred=model.predict(val_x)\n",
    "score_train=cohen_kappa_score(y_pred,train_y)\n",
    "score_val=cohen_kappa_score(val_pred,val_y)\n",
    "print(score_train,score_val)"
   ]
  },
  {
   "cell_type": "code",
   "execution_count": 9,
   "id": "3f7207fa",
   "metadata": {
    "execution": {
     "iopub.execute_input": "2023-02-08T01:01:30.419094Z",
     "iopub.status.busy": "2023-02-08T01:01:30.418642Z",
     "iopub.status.idle": "2023-02-08T01:01:30.442886Z",
     "shell.execute_reply": "2023-02-08T01:01:30.440962Z"
    },
    "papermill": {
     "duration": 0.032637,
     "end_time": "2023-02-08T01:01:30.445985",
     "exception": false,
     "start_time": "2023-02-08T01:01:30.413348",
     "status": "completed"
    },
    "tags": []
   },
   "outputs": [
    {
     "data": {
      "text/html": [
       "<div>\n",
       "<style scoped>\n",
       "    .dataframe tbody tr th:only-of-type {\n",
       "        vertical-align: middle;\n",
       "    }\n",
       "\n",
       "    .dataframe tbody tr th {\n",
       "        vertical-align: top;\n",
       "    }\n",
       "\n",
       "    .dataframe thead th {\n",
       "        text-align: right;\n",
       "    }\n",
       "</style>\n",
       "<table border=\"1\" class=\"dataframe\">\n",
       "  <thead>\n",
       "    <tr style=\"text-align: right;\">\n",
       "      <th></th>\n",
       "      <th>fixed acidity</th>\n",
       "      <th>volatile acidity</th>\n",
       "      <th>citric acid</th>\n",
       "      <th>residual sugar</th>\n",
       "      <th>chlorides</th>\n",
       "      <th>free sulfur dioxide</th>\n",
       "      <th>total sulfur dioxide</th>\n",
       "      <th>density</th>\n",
       "      <th>pH</th>\n",
       "      <th>sulphates</th>\n",
       "      <th>alcohol</th>\n",
       "    </tr>\n",
       "  </thead>\n",
       "  <tbody>\n",
       "    <tr>\n",
       "      <th>0</th>\n",
       "      <td>0.214953</td>\n",
       "      <td>0.322314</td>\n",
       "      <td>0.013158</td>\n",
       "      <td>0.100000</td>\n",
       "      <td>0.142857</td>\n",
       "      <td>0.447761</td>\n",
       "      <td>0.292994</td>\n",
       "      <td>0.564356</td>\n",
       "      <td>0.511811</td>\n",
       "      <td>0.162602</td>\n",
       "      <td>0.192308</td>\n",
       "    </tr>\n",
       "    <tr>\n",
       "      <th>1</th>\n",
       "      <td>0.214953</td>\n",
       "      <td>0.524793</td>\n",
       "      <td>0.197368</td>\n",
       "      <td>0.100000</td>\n",
       "      <td>0.197802</td>\n",
       "      <td>0.194030</td>\n",
       "      <td>0.171975</td>\n",
       "      <td>0.440975</td>\n",
       "      <td>0.464567</td>\n",
       "      <td>0.235772</td>\n",
       "      <td>0.230769</td>\n",
       "    </tr>\n",
       "    <tr>\n",
       "      <th>2</th>\n",
       "      <td>0.327103</td>\n",
       "      <td>0.280992</td>\n",
       "      <td>0.526316</td>\n",
       "      <td>0.100000</td>\n",
       "      <td>0.116484</td>\n",
       "      <td>0.298507</td>\n",
       "      <td>0.267516</td>\n",
       "      <td>0.584158</td>\n",
       "      <td>0.267717</td>\n",
       "      <td>0.211382</td>\n",
       "      <td>0.134615</td>\n",
       "    </tr>\n",
       "    <tr>\n",
       "      <th>3</th>\n",
       "      <td>0.289720</td>\n",
       "      <td>0.289256</td>\n",
       "      <td>0.526316</td>\n",
       "      <td>0.071429</td>\n",
       "      <td>0.096703</td>\n",
       "      <td>0.194030</td>\n",
       "      <td>0.108280</td>\n",
       "      <td>0.360244</td>\n",
       "      <td>0.440945</td>\n",
       "      <td>0.211382</td>\n",
       "      <td>0.557692</td>\n",
       "    </tr>\n",
       "    <tr>\n",
       "      <th>4</th>\n",
       "      <td>0.149533</td>\n",
       "      <td>0.181818</td>\n",
       "      <td>0.421053</td>\n",
       "      <td>0.114286</td>\n",
       "      <td>0.070330</td>\n",
       "      <td>0.104478</td>\n",
       "      <td>0.547771</td>\n",
       "      <td>0.265804</td>\n",
       "      <td>0.385827</td>\n",
       "      <td>0.073171</td>\n",
       "      <td>0.769231</td>\n",
       "    </tr>\n",
       "  </tbody>\n",
       "</table>\n",
       "</div>"
      ],
      "text/plain": [
       "   fixed acidity  volatile acidity  citric acid  residual sugar  chlorides  \\\n",
       "0       0.214953          0.322314     0.013158        0.100000   0.142857   \n",
       "1       0.214953          0.524793     0.197368        0.100000   0.197802   \n",
       "2       0.327103          0.280992     0.526316        0.100000   0.116484   \n",
       "3       0.289720          0.289256     0.526316        0.071429   0.096703   \n",
       "4       0.149533          0.181818     0.421053        0.114286   0.070330   \n",
       "\n",
       "   free sulfur dioxide  total sulfur dioxide   density        pH  sulphates  \\\n",
       "0             0.447761              0.292994  0.564356  0.511811   0.162602   \n",
       "1             0.194030              0.171975  0.440975  0.464567   0.235772   \n",
       "2             0.298507              0.267516  0.584158  0.267717   0.211382   \n",
       "3             0.194030              0.108280  0.360244  0.440945   0.211382   \n",
       "4             0.104478              0.547771  0.265804  0.385827   0.073171   \n",
       "\n",
       "    alcohol  \n",
       "0  0.192308  \n",
       "1  0.230769  \n",
       "2  0.134615  \n",
       "3  0.557692  \n",
       "4  0.769231  "
      ]
     },
     "execution_count": 9,
     "metadata": {},
     "output_type": "execute_result"
    }
   ],
   "source": [
    "test_x=test.iloc[:,1:]\n",
    "test_x=min_max_normalization(test_x)\n",
    "test_x.head()"
   ]
  },
  {
   "cell_type": "code",
   "execution_count": 10,
   "id": "c124ccdf",
   "metadata": {
    "execution": {
     "iopub.execute_input": "2023-02-08T01:01:30.456349Z",
     "iopub.status.busy": "2023-02-08T01:01:30.455922Z",
     "iopub.status.idle": "2023-02-08T01:01:30.471902Z",
     "shell.execute_reply": "2023-02-08T01:01:30.470553Z"
    },
    "papermill": {
     "duration": 0.023873,
     "end_time": "2023-02-08T01:01:30.474628",
     "exception": false,
     "start_time": "2023-02-08T01:01:30.450755",
     "status": "completed"
    },
    "tags": []
   },
   "outputs": [],
   "source": [
    "#model.fit(x,y)\n",
    "y_pred=model.predict(test_x)\n",
    "submission=pd.DataFrame({'Id':test['Id'],'quality':y_pred})\n",
    "submission.to_csv('submission.csv',index=False)"
   ]
  }
 ],
 "metadata": {
  "kernelspec": {
   "display_name": "Python 3",
   "language": "python",
   "name": "python3"
  },
  "language_info": {
   "codemirror_mode": {
    "name": "ipython",
    "version": 3
   },
   "file_extension": ".py",
   "mimetype": "text/x-python",
   "name": "python",
   "nbconvert_exporter": "python",
   "pygments_lexer": "ipython3",
   "version": "3.7.12"
  },
  "papermill": {
   "default_parameters": {},
   "duration": 10.70699,
   "end_time": "2023-02-08T01:01:31.301135",
   "environment_variables": {},
   "exception": null,
   "input_path": "__notebook__.ipynb",
   "output_path": "__notebook__.ipynb",
   "parameters": {},
   "start_time": "2023-02-08T01:01:20.594145",
   "version": "2.3.4"
  }
 },
 "nbformat": 4,
 "nbformat_minor": 5
}
