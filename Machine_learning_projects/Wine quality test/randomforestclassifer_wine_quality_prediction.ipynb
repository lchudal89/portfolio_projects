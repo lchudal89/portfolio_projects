{
 "cells": [
  {
   "cell_type": "code",
   "execution_count": 1,
   "id": "6f1d095c",
   "metadata": {
    "_cell_guid": "b1076dfc-b9ad-4769-8c92-a6c4dae69d19",
    "_uuid": "8f2839f25d086af736a60e9eeb907d3b93b6e0e5",
    "execution": {
     "iopub.execute_input": "2023-02-06T06:33:24.641309Z",
     "iopub.status.busy": "2023-02-06T06:33:24.640636Z",
     "iopub.status.idle": "2023-02-06T06:33:24.663025Z",
     "shell.execute_reply": "2023-02-06T06:33:24.661946Z"
    },
    "papermill": {
     "duration": 0.035004,
     "end_time": "2023-02-06T06:33:24.666317",
     "exception": false,
     "start_time": "2023-02-06T06:33:24.631313",
     "status": "completed"
    },
    "tags": []
   },
   "outputs": [
    {
     "name": "stdout",
     "output_type": "stream",
     "text": [
      "/kaggle/input/playground-series-s3e5/sample_submission.csv\n",
      "/kaggle/input/playground-series-s3e5/train.csv\n",
      "/kaggle/input/playground-series-s3e5/test.csv\n"
     ]
    }
   ],
   "source": [
    "# This Python 3 environment comes with many helpful analytics libraries installed\n",
    "# It is defined by the kaggle/python Docker image: https://github.com/kaggle/docker-python\n",
    "# For example, here's several helpful packages to load\n",
    "\n",
    "import numpy as np # linear algebra\n",
    "import pandas as pd # data processing, CSV file I/O (e.g. pd.read_csv)\n",
    "\n",
    "# Input data files are available in the read-only \"../input/\" directory\n",
    "# For example, running this (by clicking run or pressing Shift+Enter) will list all files under the input directory\n",
    "\n",
    "import os\n",
    "for dirname, _, filenames in os.walk('/kaggle/input'):\n",
    "    for filename in filenames:\n",
    "        print(os.path.join(dirname, filename))\n",
    "\n",
    "# You can write up to 20GB to the current directory (/kaggle/working/) that gets preserved as output when you create a version using \"Save & Run All\" \n",
    "# You can also write temporary files to /kaggle/temp/, but they won't be saved outside of the current session"
   ]
  },
  {
   "cell_type": "code",
   "execution_count": 2,
   "id": "5afd3c3a",
   "metadata": {
    "execution": {
     "iopub.execute_input": "2023-02-06T06:33:24.680998Z",
     "iopub.status.busy": "2023-02-06T06:33:24.680550Z",
     "iopub.status.idle": "2023-02-06T06:33:26.359425Z",
     "shell.execute_reply": "2023-02-06T06:33:26.358453Z"
    },
    "papermill": {
     "duration": 1.688717,
     "end_time": "2023-02-06T06:33:26.361958",
     "exception": false,
     "start_time": "2023-02-06T06:33:24.673241",
     "status": "completed"
    },
    "tags": []
   },
   "outputs": [],
   "source": [
    "import matplotlib.pyplot as plt\n",
    "import seaborn as sns\n",
    "import warnings \n",
    "warnings.simplefilter('ignore')\n",
    "import numpy as np\n",
    "import pandas as pd\n",
    "from sklearn.model_selection import train_test_split\n",
    "from sklearn.model_selection import GridSearchCV\n",
    "from sklearn.tree import DecisionTreeClassifier\n",
    "from sklearn.ensemble import RandomForestClassifier\n",
    "from sklearn.ensemble import GradientBoostingClassifier\n",
    "from sklearn.neighbors import KNeighborsClassifier\n",
    "from sklearn.metrics import cohen_kappa_score"
   ]
  },
  {
   "cell_type": "code",
   "execution_count": 3,
   "id": "ea2e4627",
   "metadata": {
    "execution": {
     "iopub.execute_input": "2023-02-06T06:33:26.375647Z",
     "iopub.status.busy": "2023-02-06T06:33:26.374955Z",
     "iopub.status.idle": "2023-02-06T06:33:26.426512Z",
     "shell.execute_reply": "2023-02-06T06:33:26.425597Z"
    },
    "papermill": {
     "duration": 0.061408,
     "end_time": "2023-02-06T06:33:26.429145",
     "exception": false,
     "start_time": "2023-02-06T06:33:26.367737",
     "status": "completed"
    },
    "tags": []
   },
   "outputs": [],
   "source": [
    "train=pd.read_csv('/kaggle/input/playground-series-s3e5/train.csv')\n",
    "sub=pd.read_csv('/kaggle/input/playground-series-s3e5/sample_submission.csv')\n",
    "test=pd.read_csv('/kaggle/input/playground-series-s3e5/test.csv')"
   ]
  },
  {
   "cell_type": "code",
   "execution_count": 4,
   "id": "7d73eb64",
   "metadata": {
    "execution": {
     "iopub.execute_input": "2023-02-06T06:33:26.443403Z",
     "iopub.status.busy": "2023-02-06T06:33:26.442621Z",
     "iopub.status.idle": "2023-02-06T06:33:26.482685Z",
     "shell.execute_reply": "2023-02-06T06:33:26.481408Z"
    },
    "papermill": {
     "duration": 0.050187,
     "end_time": "2023-02-06T06:33:26.485322",
     "exception": false,
     "start_time": "2023-02-06T06:33:26.435135",
     "status": "completed"
    },
    "tags": []
   },
   "outputs": [
    {
     "data": {
      "text/html": [
       "<div>\n",
       "<style scoped>\n",
       "    .dataframe tbody tr th:only-of-type {\n",
       "        vertical-align: middle;\n",
       "    }\n",
       "\n",
       "    .dataframe tbody tr th {\n",
       "        vertical-align: top;\n",
       "    }\n",
       "\n",
       "    .dataframe thead th {\n",
       "        text-align: right;\n",
       "    }\n",
       "</style>\n",
       "<table border=\"1\" class=\"dataframe\">\n",
       "  <thead>\n",
       "    <tr style=\"text-align: right;\">\n",
       "      <th></th>\n",
       "      <th>Id</th>\n",
       "      <th>fixed acidity</th>\n",
       "      <th>volatile acidity</th>\n",
       "      <th>citric acid</th>\n",
       "      <th>residual sugar</th>\n",
       "      <th>chlorides</th>\n",
       "      <th>free sulfur dioxide</th>\n",
       "      <th>total sulfur dioxide</th>\n",
       "      <th>density</th>\n",
       "      <th>pH</th>\n",
       "      <th>sulphates</th>\n",
       "      <th>alcohol</th>\n",
       "      <th>quality</th>\n",
       "    </tr>\n",
       "  </thead>\n",
       "  <tbody>\n",
       "    <tr>\n",
       "      <th>0</th>\n",
       "      <td>0</td>\n",
       "      <td>8.0</td>\n",
       "      <td>0.500</td>\n",
       "      <td>0.39</td>\n",
       "      <td>2.2</td>\n",
       "      <td>0.073</td>\n",
       "      <td>30.0</td>\n",
       "      <td>39.0</td>\n",
       "      <td>0.99572</td>\n",
       "      <td>3.33</td>\n",
       "      <td>0.77</td>\n",
       "      <td>12.1</td>\n",
       "      <td>6</td>\n",
       "    </tr>\n",
       "    <tr>\n",
       "      <th>1</th>\n",
       "      <td>1</td>\n",
       "      <td>9.3</td>\n",
       "      <td>0.300</td>\n",
       "      <td>0.73</td>\n",
       "      <td>2.3</td>\n",
       "      <td>0.092</td>\n",
       "      <td>30.0</td>\n",
       "      <td>67.0</td>\n",
       "      <td>0.99854</td>\n",
       "      <td>3.32</td>\n",
       "      <td>0.67</td>\n",
       "      <td>12.8</td>\n",
       "      <td>6</td>\n",
       "    </tr>\n",
       "    <tr>\n",
       "      <th>2</th>\n",
       "      <td>2</td>\n",
       "      <td>7.1</td>\n",
       "      <td>0.510</td>\n",
       "      <td>0.03</td>\n",
       "      <td>2.1</td>\n",
       "      <td>0.059</td>\n",
       "      <td>3.0</td>\n",
       "      <td>12.0</td>\n",
       "      <td>0.99660</td>\n",
       "      <td>3.52</td>\n",
       "      <td>0.73</td>\n",
       "      <td>11.3</td>\n",
       "      <td>7</td>\n",
       "    </tr>\n",
       "    <tr>\n",
       "      <th>3</th>\n",
       "      <td>3</td>\n",
       "      <td>8.1</td>\n",
       "      <td>0.870</td>\n",
       "      <td>0.22</td>\n",
       "      <td>2.6</td>\n",
       "      <td>0.084</td>\n",
       "      <td>11.0</td>\n",
       "      <td>65.0</td>\n",
       "      <td>0.99730</td>\n",
       "      <td>3.20</td>\n",
       "      <td>0.53</td>\n",
       "      <td>9.8</td>\n",
       "      <td>5</td>\n",
       "    </tr>\n",
       "    <tr>\n",
       "      <th>4</th>\n",
       "      <td>4</td>\n",
       "      <td>8.5</td>\n",
       "      <td>0.360</td>\n",
       "      <td>0.30</td>\n",
       "      <td>2.3</td>\n",
       "      <td>0.079</td>\n",
       "      <td>10.0</td>\n",
       "      <td>45.0</td>\n",
       "      <td>0.99444</td>\n",
       "      <td>3.20</td>\n",
       "      <td>1.36</td>\n",
       "      <td>9.5</td>\n",
       "      <td>6</td>\n",
       "    </tr>\n",
       "    <tr>\n",
       "      <th>5</th>\n",
       "      <td>5</td>\n",
       "      <td>9.9</td>\n",
       "      <td>0.510</td>\n",
       "      <td>0.44</td>\n",
       "      <td>2.2</td>\n",
       "      <td>0.111</td>\n",
       "      <td>30.0</td>\n",
       "      <td>134.0</td>\n",
       "      <td>0.99820</td>\n",
       "      <td>3.11</td>\n",
       "      <td>0.54</td>\n",
       "      <td>9.6</td>\n",
       "      <td>5</td>\n",
       "    </tr>\n",
       "    <tr>\n",
       "      <th>6</th>\n",
       "      <td>6</td>\n",
       "      <td>7.2</td>\n",
       "      <td>0.870</td>\n",
       "      <td>0.00</td>\n",
       "      <td>2.3</td>\n",
       "      <td>0.080</td>\n",
       "      <td>6.0</td>\n",
       "      <td>18.0</td>\n",
       "      <td>0.99552</td>\n",
       "      <td>3.34</td>\n",
       "      <td>0.60</td>\n",
       "      <td>11.3</td>\n",
       "      <td>6</td>\n",
       "    </tr>\n",
       "    <tr>\n",
       "      <th>7</th>\n",
       "      <td>7</td>\n",
       "      <td>7.5</td>\n",
       "      <td>0.430</td>\n",
       "      <td>0.32</td>\n",
       "      <td>1.8</td>\n",
       "      <td>0.066</td>\n",
       "      <td>18.0</td>\n",
       "      <td>40.0</td>\n",
       "      <td>0.99560</td>\n",
       "      <td>3.30</td>\n",
       "      <td>0.43</td>\n",
       "      <td>9.7</td>\n",
       "      <td>6</td>\n",
       "    </tr>\n",
       "    <tr>\n",
       "      <th>8</th>\n",
       "      <td>8</td>\n",
       "      <td>11.6</td>\n",
       "      <td>0.380</td>\n",
       "      <td>0.55</td>\n",
       "      <td>2.2</td>\n",
       "      <td>0.084</td>\n",
       "      <td>17.0</td>\n",
       "      <td>40.0</td>\n",
       "      <td>1.00080</td>\n",
       "      <td>3.17</td>\n",
       "      <td>0.73</td>\n",
       "      <td>9.8</td>\n",
       "      <td>6</td>\n",
       "    </tr>\n",
       "    <tr>\n",
       "      <th>9</th>\n",
       "      <td>9</td>\n",
       "      <td>7.8</td>\n",
       "      <td>0.780</td>\n",
       "      <td>0.09</td>\n",
       "      <td>2.2</td>\n",
       "      <td>0.049</td>\n",
       "      <td>13.0</td>\n",
       "      <td>29.0</td>\n",
       "      <td>0.99682</td>\n",
       "      <td>3.51</td>\n",
       "      <td>0.49</td>\n",
       "      <td>9.5</td>\n",
       "      <td>5</td>\n",
       "    </tr>\n",
       "    <tr>\n",
       "      <th>10</th>\n",
       "      <td>10</td>\n",
       "      <td>9.0</td>\n",
       "      <td>0.715</td>\n",
       "      <td>0.24</td>\n",
       "      <td>2.6</td>\n",
       "      <td>0.086</td>\n",
       "      <td>17.0</td>\n",
       "      <td>110.0</td>\n",
       "      <td>0.99760</td>\n",
       "      <td>3.31</td>\n",
       "      <td>0.53</td>\n",
       "      <td>9.4</td>\n",
       "      <td>5</td>\n",
       "    </tr>\n",
       "    <tr>\n",
       "      <th>11</th>\n",
       "      <td>11</td>\n",
       "      <td>10.4</td>\n",
       "      <td>0.240</td>\n",
       "      <td>0.42</td>\n",
       "      <td>2.4</td>\n",
       "      <td>0.059</td>\n",
       "      <td>6.0</td>\n",
       "      <td>15.0</td>\n",
       "      <td>0.99720</td>\n",
       "      <td>3.08</td>\n",
       "      <td>0.86</td>\n",
       "      <td>10.8</td>\n",
       "      <td>7</td>\n",
       "    </tr>\n",
       "    <tr>\n",
       "      <th>12</th>\n",
       "      <td>12</td>\n",
       "      <td>10.5</td>\n",
       "      <td>0.590</td>\n",
       "      <td>0.24</td>\n",
       "      <td>2.7</td>\n",
       "      <td>0.076</td>\n",
       "      <td>13.0</td>\n",
       "      <td>30.0</td>\n",
       "      <td>0.99810</td>\n",
       "      <td>3.04</td>\n",
       "      <td>0.49</td>\n",
       "      <td>10.0</td>\n",
       "      <td>6</td>\n",
       "    </tr>\n",
       "    <tr>\n",
       "      <th>13</th>\n",
       "      <td>13</td>\n",
       "      <td>6.7</td>\n",
       "      <td>0.520</td>\n",
       "      <td>0.28</td>\n",
       "      <td>1.8</td>\n",
       "      <td>0.088</td>\n",
       "      <td>23.0</td>\n",
       "      <td>91.0</td>\n",
       "      <td>0.99480</td>\n",
       "      <td>3.38</td>\n",
       "      <td>0.48</td>\n",
       "      <td>9.3</td>\n",
       "      <td>4</td>\n",
       "    </tr>\n",
       "    <tr>\n",
       "      <th>14</th>\n",
       "      <td>14</td>\n",
       "      <td>6.4</td>\n",
       "      <td>0.660</td>\n",
       "      <td>0.03</td>\n",
       "      <td>2.2</td>\n",
       "      <td>0.078</td>\n",
       "      <td>31.0</td>\n",
       "      <td>54.0</td>\n",
       "      <td>0.99736</td>\n",
       "      <td>3.56</td>\n",
       "      <td>0.57</td>\n",
       "      <td>11.0</td>\n",
       "      <td>6</td>\n",
       "    </tr>\n",
       "    <tr>\n",
       "      <th>15</th>\n",
       "      <td>15</td>\n",
       "      <td>7.4</td>\n",
       "      <td>0.590</td>\n",
       "      <td>0.24</td>\n",
       "      <td>2.8</td>\n",
       "      <td>0.076</td>\n",
       "      <td>31.0</td>\n",
       "      <td>134.0</td>\n",
       "      <td>0.99780</td>\n",
       "      <td>3.21</td>\n",
       "      <td>0.51</td>\n",
       "      <td>9.4</td>\n",
       "      <td>5</td>\n",
       "    </tr>\n",
       "    <tr>\n",
       "      <th>16</th>\n",
       "      <td>16</td>\n",
       "      <td>11.5</td>\n",
       "      <td>0.270</td>\n",
       "      <td>0.60</td>\n",
       "      <td>2.3</td>\n",
       "      <td>0.089</td>\n",
       "      <td>11.0</td>\n",
       "      <td>25.0</td>\n",
       "      <td>0.99628</td>\n",
       "      <td>3.10</td>\n",
       "      <td>0.44</td>\n",
       "      <td>12.0</td>\n",
       "      <td>7</td>\n",
       "    </tr>\n",
       "    <tr>\n",
       "      <th>17</th>\n",
       "      <td>17</td>\n",
       "      <td>7.6</td>\n",
       "      <td>0.560</td>\n",
       "      <td>0.28</td>\n",
       "      <td>2.4</td>\n",
       "      <td>0.077</td>\n",
       "      <td>16.0</td>\n",
       "      <td>86.0</td>\n",
       "      <td>0.99690</td>\n",
       "      <td>3.22</td>\n",
       "      <td>0.64</td>\n",
       "      <td>9.8</td>\n",
       "      <td>6</td>\n",
       "    </tr>\n",
       "    <tr>\n",
       "      <th>18</th>\n",
       "      <td>18</td>\n",
       "      <td>10.2</td>\n",
       "      <td>0.240</td>\n",
       "      <td>0.34</td>\n",
       "      <td>2.6</td>\n",
       "      <td>0.067</td>\n",
       "      <td>13.0</td>\n",
       "      <td>27.0</td>\n",
       "      <td>0.99683</td>\n",
       "      <td>3.22</td>\n",
       "      <td>0.58</td>\n",
       "      <td>10.0</td>\n",
       "      <td>6</td>\n",
       "    </tr>\n",
       "    <tr>\n",
       "      <th>19</th>\n",
       "      <td>19</td>\n",
       "      <td>5.6</td>\n",
       "      <td>0.390</td>\n",
       "      <td>0.16</td>\n",
       "      <td>3.0</td>\n",
       "      <td>0.095</td>\n",
       "      <td>12.0</td>\n",
       "      <td>49.0</td>\n",
       "      <td>0.99810</td>\n",
       "      <td>3.61</td>\n",
       "      <td>0.89</td>\n",
       "      <td>13.1</td>\n",
       "      <td>8</td>\n",
       "    </tr>\n",
       "  </tbody>\n",
       "</table>\n",
       "</div>"
      ],
      "text/plain": [
       "    Id  fixed acidity  volatile acidity  citric acid  residual sugar  \\\n",
       "0    0            8.0             0.500         0.39             2.2   \n",
       "1    1            9.3             0.300         0.73             2.3   \n",
       "2    2            7.1             0.510         0.03             2.1   \n",
       "3    3            8.1             0.870         0.22             2.6   \n",
       "4    4            8.5             0.360         0.30             2.3   \n",
       "5    5            9.9             0.510         0.44             2.2   \n",
       "6    6            7.2             0.870         0.00             2.3   \n",
       "7    7            7.5             0.430         0.32             1.8   \n",
       "8    8           11.6             0.380         0.55             2.2   \n",
       "9    9            7.8             0.780         0.09             2.2   \n",
       "10  10            9.0             0.715         0.24             2.6   \n",
       "11  11           10.4             0.240         0.42             2.4   \n",
       "12  12           10.5             0.590         0.24             2.7   \n",
       "13  13            6.7             0.520         0.28             1.8   \n",
       "14  14            6.4             0.660         0.03             2.2   \n",
       "15  15            7.4             0.590         0.24             2.8   \n",
       "16  16           11.5             0.270         0.60             2.3   \n",
       "17  17            7.6             0.560         0.28             2.4   \n",
       "18  18           10.2             0.240         0.34             2.6   \n",
       "19  19            5.6             0.390         0.16             3.0   \n",
       "\n",
       "    chlorides  free sulfur dioxide  total sulfur dioxide  density    pH  \\\n",
       "0       0.073                 30.0                  39.0  0.99572  3.33   \n",
       "1       0.092                 30.0                  67.0  0.99854  3.32   \n",
       "2       0.059                  3.0                  12.0  0.99660  3.52   \n",
       "3       0.084                 11.0                  65.0  0.99730  3.20   \n",
       "4       0.079                 10.0                  45.0  0.99444  3.20   \n",
       "5       0.111                 30.0                 134.0  0.99820  3.11   \n",
       "6       0.080                  6.0                  18.0  0.99552  3.34   \n",
       "7       0.066                 18.0                  40.0  0.99560  3.30   \n",
       "8       0.084                 17.0                  40.0  1.00080  3.17   \n",
       "9       0.049                 13.0                  29.0  0.99682  3.51   \n",
       "10      0.086                 17.0                 110.0  0.99760  3.31   \n",
       "11      0.059                  6.0                  15.0  0.99720  3.08   \n",
       "12      0.076                 13.0                  30.0  0.99810  3.04   \n",
       "13      0.088                 23.0                  91.0  0.99480  3.38   \n",
       "14      0.078                 31.0                  54.0  0.99736  3.56   \n",
       "15      0.076                 31.0                 134.0  0.99780  3.21   \n",
       "16      0.089                 11.0                  25.0  0.99628  3.10   \n",
       "17      0.077                 16.0                  86.0  0.99690  3.22   \n",
       "18      0.067                 13.0                  27.0  0.99683  3.22   \n",
       "19      0.095                 12.0                  49.0  0.99810  3.61   \n",
       "\n",
       "    sulphates  alcohol  quality  \n",
       "0        0.77     12.1        6  \n",
       "1        0.67     12.8        6  \n",
       "2        0.73     11.3        7  \n",
       "3        0.53      9.8        5  \n",
       "4        1.36      9.5        6  \n",
       "5        0.54      9.6        5  \n",
       "6        0.60     11.3        6  \n",
       "7        0.43      9.7        6  \n",
       "8        0.73      9.8        6  \n",
       "9        0.49      9.5        5  \n",
       "10       0.53      9.4        5  \n",
       "11       0.86     10.8        7  \n",
       "12       0.49     10.0        6  \n",
       "13       0.48      9.3        4  \n",
       "14       0.57     11.0        6  \n",
       "15       0.51      9.4        5  \n",
       "16       0.44     12.0        7  \n",
       "17       0.64      9.8        6  \n",
       "18       0.58     10.0        6  \n",
       "19       0.89     13.1        8  "
      ]
     },
     "execution_count": 4,
     "metadata": {},
     "output_type": "execute_result"
    }
   ],
   "source": [
    "train.head(20)"
   ]
  },
  {
   "cell_type": "code",
   "execution_count": 5,
   "id": "4d2f2c35",
   "metadata": {
    "execution": {
     "iopub.execute_input": "2023-02-06T06:33:26.500380Z",
     "iopub.status.busy": "2023-02-06T06:33:26.499199Z",
     "iopub.status.idle": "2023-02-06T06:33:26.511213Z",
     "shell.execute_reply": "2023-02-06T06:33:26.510050Z"
    },
    "papermill": {
     "duration": 0.021878,
     "end_time": "2023-02-06T06:33:26.513484",
     "exception": false,
     "start_time": "2023-02-06T06:33:26.491606",
     "status": "completed"
    },
    "tags": []
   },
   "outputs": [
    {
     "data": {
      "text/plain": [
       "0.5276006809338522"
      ]
     },
     "execution_count": 5,
     "metadata": {},
     "output_type": "execute_result"
    }
   ],
   "source": [
    "train['volatile acidity'].mean()"
   ]
  },
  {
   "cell_type": "code",
   "execution_count": null,
   "id": "032bc276",
   "metadata": {
    "papermill": {
     "duration": 0.006105,
     "end_time": "2023-02-06T06:33:26.525988",
     "exception": false,
     "start_time": "2023-02-06T06:33:26.519883",
     "status": "completed"
    },
    "tags": []
   },
   "outputs": [],
   "source": []
  },
  {
   "cell_type": "markdown",
   "id": "9e5a4741",
   "metadata": {
    "papermill": {
     "duration": 0.006111,
     "end_time": "2023-02-06T06:33:26.538483",
     "exception": false,
     "start_time": "2023-02-06T06:33:26.532372",
     "status": "completed"
    },
    "tags": []
   },
   "source": [
    "## Data normalization"
   ]
  },
  {
   "cell_type": "code",
   "execution_count": 6,
   "id": "7712ec92",
   "metadata": {
    "execution": {
     "iopub.execute_input": "2023-02-06T06:33:26.552995Z",
     "iopub.status.busy": "2023-02-06T06:33:26.552544Z",
     "iopub.status.idle": "2023-02-06T06:33:26.564931Z",
     "shell.execute_reply": "2023-02-06T06:33:26.564044Z"
    },
    "papermill": {
     "duration": 0.022667,
     "end_time": "2023-02-06T06:33:26.567434",
     "exception": false,
     "start_time": "2023-02-06T06:33:26.544767",
     "status": "completed"
    },
    "tags": []
   },
   "outputs": [],
   "source": [
    "y=train.pop('quality')\n",
    "x=train.drop('Id',axis=1)"
   ]
  },
  {
   "cell_type": "code",
   "execution_count": 7,
   "id": "b0aef234",
   "metadata": {
    "execution": {
     "iopub.execute_input": "2023-02-06T06:33:26.582295Z",
     "iopub.status.busy": "2023-02-06T06:33:26.581492Z",
     "iopub.status.idle": "2023-02-06T06:33:26.586204Z",
     "shell.execute_reply": "2023-02-06T06:33:26.585388Z"
    },
    "papermill": {
     "duration": 0.014719,
     "end_time": "2023-02-06T06:33:26.588429",
     "exception": false,
     "start_time": "2023-02-06T06:33:26.573710",
     "status": "completed"
    },
    "tags": []
   },
   "outputs": [],
   "source": [
    "# # min max normalization\n",
    "# def min_max_normalization(df):\n",
    "#     return (df - df.min()) /(df.max()-df.min())\n",
    "# x=min_max_normalization(x)\n",
    "# x.head()"
   ]
  },
  {
   "cell_type": "code",
   "execution_count": 8,
   "id": "2bfaef9f",
   "metadata": {
    "execution": {
     "iopub.execute_input": "2023-02-06T06:33:26.603430Z",
     "iopub.status.busy": "2023-02-06T06:33:26.602619Z",
     "iopub.status.idle": "2023-02-06T06:33:26.622314Z",
     "shell.execute_reply": "2023-02-06T06:33:26.621114Z"
    },
    "papermill": {
     "duration": 0.030097,
     "end_time": "2023-02-06T06:33:26.624822",
     "exception": false,
     "start_time": "2023-02-06T06:33:26.594725",
     "status": "completed"
    },
    "tags": []
   },
   "outputs": [
    {
     "data": {
      "text/html": [
       "<div>\n",
       "<style scoped>\n",
       "    .dataframe tbody tr th:only-of-type {\n",
       "        vertical-align: middle;\n",
       "    }\n",
       "\n",
       "    .dataframe tbody tr th {\n",
       "        vertical-align: top;\n",
       "    }\n",
       "\n",
       "    .dataframe thead th {\n",
       "        text-align: right;\n",
       "    }\n",
       "</style>\n",
       "<table border=\"1\" class=\"dataframe\">\n",
       "  <thead>\n",
       "    <tr style=\"text-align: right;\">\n",
       "      <th></th>\n",
       "      <th>fixed acidity</th>\n",
       "      <th>volatile acidity</th>\n",
       "      <th>citric acid</th>\n",
       "      <th>residual sugar</th>\n",
       "      <th>chlorides</th>\n",
       "      <th>free sulfur dioxide</th>\n",
       "      <th>total sulfur dioxide</th>\n",
       "      <th>density</th>\n",
       "      <th>pH</th>\n",
       "      <th>sulphates</th>\n",
       "      <th>alcohol</th>\n",
       "    </tr>\n",
       "  </thead>\n",
       "  <tbody>\n",
       "    <tr>\n",
       "      <th>0</th>\n",
       "      <td>8.0</td>\n",
       "      <td>0.50</td>\n",
       "      <td>0.39</td>\n",
       "      <td>2.2</td>\n",
       "      <td>0.073</td>\n",
       "      <td>30.0</td>\n",
       "      <td>39.0</td>\n",
       "      <td>0.99572</td>\n",
       "      <td>3.33</td>\n",
       "      <td>0.77</td>\n",
       "      <td>12.1</td>\n",
       "    </tr>\n",
       "    <tr>\n",
       "      <th>1</th>\n",
       "      <td>9.3</td>\n",
       "      <td>0.30</td>\n",
       "      <td>0.73</td>\n",
       "      <td>2.3</td>\n",
       "      <td>0.092</td>\n",
       "      <td>30.0</td>\n",
       "      <td>67.0</td>\n",
       "      <td>0.99854</td>\n",
       "      <td>3.32</td>\n",
       "      <td>0.67</td>\n",
       "      <td>12.8</td>\n",
       "    </tr>\n",
       "    <tr>\n",
       "      <th>2</th>\n",
       "      <td>7.1</td>\n",
       "      <td>0.51</td>\n",
       "      <td>0.03</td>\n",
       "      <td>2.1</td>\n",
       "      <td>0.059</td>\n",
       "      <td>3.0</td>\n",
       "      <td>12.0</td>\n",
       "      <td>0.99660</td>\n",
       "      <td>3.52</td>\n",
       "      <td>0.73</td>\n",
       "      <td>11.3</td>\n",
       "    </tr>\n",
       "    <tr>\n",
       "      <th>3</th>\n",
       "      <td>8.1</td>\n",
       "      <td>0.87</td>\n",
       "      <td>0.22</td>\n",
       "      <td>2.6</td>\n",
       "      <td>0.084</td>\n",
       "      <td>11.0</td>\n",
       "      <td>65.0</td>\n",
       "      <td>0.99730</td>\n",
       "      <td>3.20</td>\n",
       "      <td>0.53</td>\n",
       "      <td>9.8</td>\n",
       "    </tr>\n",
       "    <tr>\n",
       "      <th>4</th>\n",
       "      <td>8.5</td>\n",
       "      <td>0.36</td>\n",
       "      <td>0.30</td>\n",
       "      <td>2.3</td>\n",
       "      <td>0.079</td>\n",
       "      <td>10.0</td>\n",
       "      <td>45.0</td>\n",
       "      <td>0.99444</td>\n",
       "      <td>3.20</td>\n",
       "      <td>1.36</td>\n",
       "      <td>9.5</td>\n",
       "    </tr>\n",
       "  </tbody>\n",
       "</table>\n",
       "</div>"
      ],
      "text/plain": [
       "   fixed acidity  volatile acidity  citric acid  residual sugar  chlorides  \\\n",
       "0            8.0              0.50         0.39             2.2      0.073   \n",
       "1            9.3              0.30         0.73             2.3      0.092   \n",
       "2            7.1              0.51         0.03             2.1      0.059   \n",
       "3            8.1              0.87         0.22             2.6      0.084   \n",
       "4            8.5              0.36         0.30             2.3      0.079   \n",
       "\n",
       "   free sulfur dioxide  total sulfur dioxide  density    pH  sulphates  \\\n",
       "0                 30.0                  39.0  0.99572  3.33       0.77   \n",
       "1                 30.0                  67.0  0.99854  3.32       0.67   \n",
       "2                  3.0                  12.0  0.99660  3.52       0.73   \n",
       "3                 11.0                  65.0  0.99730  3.20       0.53   \n",
       "4                 10.0                  45.0  0.99444  3.20       1.36   \n",
       "\n",
       "   alcohol  \n",
       "0     12.1  \n",
       "1     12.8  \n",
       "2     11.3  \n",
       "3      9.8  \n",
       "4      9.5  "
      ]
     },
     "execution_count": 8,
     "metadata": {},
     "output_type": "execute_result"
    }
   ],
   "source": [
    "x.head()"
   ]
  },
  {
   "cell_type": "markdown",
   "id": "a900d853",
   "metadata": {
    "papermill": {
     "duration": 0.006711,
     "end_time": "2023-02-06T06:33:26.638550",
     "exception": false,
     "start_time": "2023-02-06T06:33:26.631839",
     "status": "completed"
    },
    "tags": []
   },
   "source": [
    "# Correlation between features"
   ]
  },
  {
   "cell_type": "code",
   "execution_count": 9,
   "id": "d478dc6b",
   "metadata": {
    "execution": {
     "iopub.execute_input": "2023-02-06T06:33:26.654595Z",
     "iopub.status.busy": "2023-02-06T06:33:26.653822Z",
     "iopub.status.idle": "2023-02-06T06:33:27.585315Z",
     "shell.execute_reply": "2023-02-06T06:33:27.584325Z"
    },
    "papermill": {
     "duration": 0.943464,
     "end_time": "2023-02-06T06:33:27.588737",
     "exception": false,
     "start_time": "2023-02-06T06:33:26.645273",
     "status": "completed"
    },
    "tags": []
   },
   "outputs": [
    {
     "data": {
      "text/plain": [
       "<AxesSubplot:>"
      ]
     },
     "execution_count": 9,
     "metadata": {},
     "output_type": "execute_result"
    },
    {
     "data": {
      "image/png": "[encoded data removed]",
      "text/plain": [
       "<Figure size 1080x864 with 2 Axes>"
      ]
     },
     "metadata": {
      "needs_background": "light"
     },
     "output_type": "display_data"
    }
   ],
   "source": [
    "Corr=x.corr()\n",
    "plt.figure(figsize=(15,12))\n",
    "sns.heatmap(Corr,annot=True,linecolor='white')"
   ]
  },
  {
   "cell_type": "code",
   "execution_count": 10,
   "id": "2491ed25",
   "metadata": {
    "execution": {
     "iopub.execute_input": "2023-02-06T06:33:27.606682Z",
     "iopub.status.busy": "2023-02-06T06:33:27.605544Z",
     "iopub.status.idle": "2023-02-06T06:33:27.612743Z",
     "shell.execute_reply": "2023-02-06T06:33:27.611732Z"
    },
    "papermill": {
     "duration": 0.018616,
     "end_time": "2023-02-06T06:33:27.615143",
     "exception": false,
     "start_time": "2023-02-06T06:33:27.596527",
     "status": "completed"
    },
    "tags": []
   },
   "outputs": [
    {
     "data": {
      "text/plain": [
       "((2056, 11), (2056,))"
      ]
     },
     "execution_count": 10,
     "metadata": {},
     "output_type": "execute_result"
    }
   ],
   "source": [
    "x.shape,y.shape"
   ]
  },
  {
   "cell_type": "code",
   "execution_count": 11,
   "id": "4d0c57d7",
   "metadata": {
    "execution": {
     "iopub.execute_input": "2023-02-06T06:33:27.633874Z",
     "iopub.status.busy": "2023-02-06T06:33:27.633484Z",
     "iopub.status.idle": "2023-02-06T06:33:27.650187Z",
     "shell.execute_reply": "2023-02-06T06:33:27.649029Z"
    },
    "papermill": {
     "duration": 0.028462,
     "end_time": "2023-02-06T06:33:27.652472",
     "exception": false,
     "start_time": "2023-02-06T06:33:27.624010",
     "status": "completed"
    },
    "tags": []
   },
   "outputs": [
    {
     "data": {
      "text/plain": [
       "fixed acidity           0.073852\n",
       "volatile acidity       -0.219287\n",
       "citric acid             0.141797\n",
       "residual sugar          0.048156\n",
       "chlorides              -0.046624\n",
       "free sulfur dioxide    -0.060217\n",
       "total sulfur dioxide   -0.225670\n",
       "density                -0.153198\n",
       "pH                      0.016378\n",
       "sulphates               0.366939\n",
       "alcohol                 0.482833\n",
       "dtype: float64"
      ]
     },
     "execution_count": 11,
     "metadata": {},
     "output_type": "execute_result"
    }
   ],
   "source": [
    "Corr=x.corrwith(y,axis=0)\n",
    "Corr"
   ]
  },
  {
   "cell_type": "markdown",
   "id": "c79d7d7e",
   "metadata": {
    "papermill": {
     "duration": 0.007802,
     "end_time": "2023-02-06T06:33:27.668495",
     "exception": false,
     "start_time": "2023-02-06T06:33:27.660693",
     "status": "completed"
    },
    "tags": []
   },
   "source": [
    "# Model"
   ]
  },
  {
   "cell_type": "code",
   "execution_count": 12,
   "id": "dad5e140",
   "metadata": {
    "execution": {
     "iopub.execute_input": "2023-02-06T06:33:27.686468Z",
     "iopub.status.busy": "2023-02-06T06:33:27.686019Z",
     "iopub.status.idle": "2023-02-06T06:33:27.691079Z",
     "shell.execute_reply": "2023-02-06T06:33:27.690236Z"
    },
    "papermill": {
     "duration": 0.016553,
     "end_time": "2023-02-06T06:33:27.693181",
     "exception": false,
     "start_time": "2023-02-06T06:33:27.676628",
     "status": "completed"
    },
    "tags": []
   },
   "outputs": [],
   "source": [
    "# from sklearn.ensemble import RandomForestClassifier\n",
    "# from sklearn.model_selection import GridSearchCV\n",
    "# from sklearn.datasets import load_iris\n",
    "\n",
    "# # Define the parameter grid to search\n",
    "# param_grid = {'criterion':['gini','entropy'],\n",
    "#               'n_estimators': [10, 50, 100, 200,500,100],\n",
    "#               'max_depth': [None, 3, 5, 7,8,10,15,20],\n",
    "#              'class_weight':['class_weights',None],\n",
    "#              'max_features':['sqrt', 'log2', None],\n",
    "#               'bootstrap':[True,False]}\n",
    "\n",
    "# # Initialize the RandomForestClassifier\n",
    "# rfc = RandomForestClassifier()\n",
    "\n",
    "# # Use GridSearchCV to find the best hyperparameters for the classifier\n",
    "# grid_search = GridSearchCV(rfc, param_grid, cv=5)\n",
    "# grid_search.fit(x, y)\n",
    "\n",
    "# # Print the best hyperparameters found by GridSearchCV\n",
    "# print(\"Best hyperparameters: \", grid_search.best_params_)"
   ]
  },
  {
   "cell_type": "markdown",
   "id": "22df5e3a",
   "metadata": {
    "papermill": {
     "duration": 0.007852,
     "end_time": "2023-02-06T06:33:27.709202",
     "exception": false,
     "start_time": "2023-02-06T06:33:27.701350",
     "status": "completed"
    },
    "tags": []
   },
   "source": [
    "## RandomForestClassifier"
   ]
  },
  {
   "cell_type": "markdown",
   "id": "0a343bda",
   "metadata": {
    "papermill": {
     "duration": 0.007794,
     "end_time": "2023-02-06T06:33:27.725112",
     "exception": false,
     "start_time": "2023-02-06T06:33:27.717318",
     "status": "completed"
    },
    "tags": []
   },
   "source": [
    "Hyperparameters:\n",
    "{'bootstrap': True, 'class_weight': None, 'criterion': 'entropy', 'max_depth': 5, 'max_features': None, 'n_estimators': 100}"
   ]
  },
  {
   "cell_type": "markdown",
   "id": "93627a65",
   "metadata": {
    "papermill": {
     "duration": 0.007753,
     "end_time": "2023-02-06T06:33:27.740996",
     "exception": false,
     "start_time": "2023-02-06T06:33:27.733243",
     "status": "completed"
    },
    "tags": []
   },
   "source": [
    "### Comment: \n",
    "- fitting entire data using model.fit(x,y) gave 0.527.\n",
    "- Prediction using trained data gave 0.563."
   ]
  },
  {
   "cell_type": "code",
   "execution_count": 13,
   "id": "9a6bbeb8",
   "metadata": {
    "execution": {
     "iopub.execute_input": "2023-02-06T06:33:27.759378Z",
     "iopub.status.busy": "2023-02-06T06:33:27.758365Z",
     "iopub.status.idle": "2023-02-06T06:33:28.540258Z",
     "shell.execute_reply": "2023-02-06T06:33:28.539036Z"
    },
    "papermill": {
     "duration": 0.794552,
     "end_time": "2023-02-06T06:33:28.543571",
     "exception": false,
     "start_time": "2023-02-06T06:33:27.749019",
     "status": "completed"
    },
    "tags": []
   },
   "outputs": [
    {
     "name": "stdout",
     "output_type": "stream",
     "text": [
      "0.5260504538575386 0.333491952081276\n"
     ]
    }
   ],
   "source": [
    "train_x,val_x,train_y,val_y=train_test_split(x,y,train_size=0.75,random_state=1)\n",
    "unique, counts = np.unique(train_y, return_counts=True)\n",
    "class_weights = dict(zip(unique, 1/counts))\n",
    "model=RandomForestClassifier(criterion='entropy',\n",
    "                             n_estimators=95,\n",
    "                             max_depth=6,\n",
    "                             max_features=None,\n",
    "                             bootstrap=True,\n",
    "                             random_state=1,\n",
    "                             #class_weight=class_weights\n",
    "                             ) \n",
    "model.fit(train_x,train_y)\n",
    "y_pred=model.predict(train_x)\n",
    "val_pred=model.predict(val_x)\n",
    "score_train=cohen_kappa_score(y_pred,train_y)\n",
    "score_val=cohen_kappa_score(val_pred,val_y)\n",
    "print(score_train,score_val)"
   ]
  },
  {
   "cell_type": "code",
   "execution_count": null,
   "id": "b3885acd",
   "metadata": {
    "papermill": {
     "duration": 0.007988,
     "end_time": "2023-02-06T06:33:28.560370",
     "exception": false,
     "start_time": "2023-02-06T06:33:28.552382",
     "status": "completed"
    },
    "tags": []
   },
   "outputs": [],
   "source": []
  },
  {
   "cell_type": "code",
   "execution_count": 14,
   "id": "98678914",
   "metadata": {
    "execution": {
     "iopub.execute_input": "2023-02-06T06:33:28.578393Z",
     "iopub.status.busy": "2023-02-06T06:33:28.577982Z",
     "iopub.status.idle": "2023-02-06T06:33:28.599132Z",
     "shell.execute_reply": "2023-02-06T06:33:28.598236Z"
    },
    "papermill": {
     "duration": 0.032979,
     "end_time": "2023-02-06T06:33:28.601487",
     "exception": false,
     "start_time": "2023-02-06T06:33:28.568508",
     "status": "completed"
    },
    "tags": []
   },
   "outputs": [
    {
     "data": {
      "text/html": [
       "<div>\n",
       "<style scoped>\n",
       "    .dataframe tbody tr th:only-of-type {\n",
       "        vertical-align: middle;\n",
       "    }\n",
       "\n",
       "    .dataframe tbody tr th {\n",
       "        vertical-align: top;\n",
       "    }\n",
       "\n",
       "    .dataframe thead th {\n",
       "        text-align: right;\n",
       "    }\n",
       "</style>\n",
       "<table border=\"1\" class=\"dataframe\">\n",
       "  <thead>\n",
       "    <tr style=\"text-align: right;\">\n",
       "      <th></th>\n",
       "      <th>fixed acidity</th>\n",
       "      <th>volatile acidity</th>\n",
       "      <th>citric acid</th>\n",
       "      <th>residual sugar</th>\n",
       "      <th>chlorides</th>\n",
       "      <th>free sulfur dioxide</th>\n",
       "      <th>total sulfur dioxide</th>\n",
       "      <th>density</th>\n",
       "      <th>pH</th>\n",
       "      <th>sulphates</th>\n",
       "      <th>alcohol</th>\n",
       "    </tr>\n",
       "  </thead>\n",
       "  <tbody>\n",
       "    <tr>\n",
       "      <th>0</th>\n",
       "      <td>7.2</td>\n",
       "      <td>0.510</td>\n",
       "      <td>0.01</td>\n",
       "      <td>2.0</td>\n",
       "      <td>0.077</td>\n",
       "      <td>31.0</td>\n",
       "      <td>54.0</td>\n",
       "      <td>0.99748</td>\n",
       "      <td>3.39</td>\n",
       "      <td>0.59</td>\n",
       "      <td>9.8</td>\n",
       "    </tr>\n",
       "    <tr>\n",
       "      <th>1</th>\n",
       "      <td>7.2</td>\n",
       "      <td>0.755</td>\n",
       "      <td>0.15</td>\n",
       "      <td>2.0</td>\n",
       "      <td>0.102</td>\n",
       "      <td>14.0</td>\n",
       "      <td>35.0</td>\n",
       "      <td>0.99586</td>\n",
       "      <td>3.33</td>\n",
       "      <td>0.68</td>\n",
       "      <td>10.0</td>\n",
       "    </tr>\n",
       "    <tr>\n",
       "      <th>2</th>\n",
       "      <td>8.4</td>\n",
       "      <td>0.460</td>\n",
       "      <td>0.40</td>\n",
       "      <td>2.0</td>\n",
       "      <td>0.065</td>\n",
       "      <td>21.0</td>\n",
       "      <td>50.0</td>\n",
       "      <td>0.99774</td>\n",
       "      <td>3.08</td>\n",
       "      <td>0.65</td>\n",
       "      <td>9.5</td>\n",
       "    </tr>\n",
       "    <tr>\n",
       "      <th>3</th>\n",
       "      <td>8.0</td>\n",
       "      <td>0.470</td>\n",
       "      <td>0.40</td>\n",
       "      <td>1.8</td>\n",
       "      <td>0.056</td>\n",
       "      <td>14.0</td>\n",
       "      <td>25.0</td>\n",
       "      <td>0.99480</td>\n",
       "      <td>3.30</td>\n",
       "      <td>0.65</td>\n",
       "      <td>11.7</td>\n",
       "    </tr>\n",
       "    <tr>\n",
       "      <th>4</th>\n",
       "      <td>6.5</td>\n",
       "      <td>0.340</td>\n",
       "      <td>0.32</td>\n",
       "      <td>2.1</td>\n",
       "      <td>0.044</td>\n",
       "      <td>8.0</td>\n",
       "      <td>94.0</td>\n",
       "      <td>0.99356</td>\n",
       "      <td>3.23</td>\n",
       "      <td>0.48</td>\n",
       "      <td>12.8</td>\n",
       "    </tr>\n",
       "  </tbody>\n",
       "</table>\n",
       "</div>"
      ],
      "text/plain": [
       "   fixed acidity  volatile acidity  citric acid  residual sugar  chlorides  \\\n",
       "0            7.2             0.510         0.01             2.0      0.077   \n",
       "1            7.2             0.755         0.15             2.0      0.102   \n",
       "2            8.4             0.460         0.40             2.0      0.065   \n",
       "3            8.0             0.470         0.40             1.8      0.056   \n",
       "4            6.5             0.340         0.32             2.1      0.044   \n",
       "\n",
       "   free sulfur dioxide  total sulfur dioxide  density    pH  sulphates  \\\n",
       "0                 31.0                  54.0  0.99748  3.39       0.59   \n",
       "1                 14.0                  35.0  0.99586  3.33       0.68   \n",
       "2                 21.0                  50.0  0.99774  3.08       0.65   \n",
       "3                 14.0                  25.0  0.99480  3.30       0.65   \n",
       "4                  8.0                  94.0  0.99356  3.23       0.48   \n",
       "\n",
       "   alcohol  \n",
       "0      9.8  \n",
       "1     10.0  \n",
       "2      9.5  \n",
       "3     11.7  \n",
       "4     12.8  "
      ]
     },
     "execution_count": 14,
     "metadata": {},
     "output_type": "execute_result"
    }
   ],
   "source": [
    "test_x=test.iloc[:,1:]\n",
    "#test_x=min_max_normalization(test_x)\n",
    "test_x.head()"
   ]
  },
  {
   "cell_type": "code",
   "execution_count": 15,
   "id": "4b00a86f",
   "metadata": {
    "execution": {
     "iopub.execute_input": "2023-02-06T06:33:28.620964Z",
     "iopub.status.busy": "2023-02-06T06:33:28.620249Z",
     "iopub.status.idle": "2023-02-06T06:33:28.658349Z",
     "shell.execute_reply": "2023-02-06T06:33:28.657298Z"
    },
    "papermill": {
     "duration": 0.050704,
     "end_time": "2023-02-06T06:33:28.660868",
     "exception": false,
     "start_time": "2023-02-06T06:33:28.610164",
     "status": "completed"
    },
    "tags": []
   },
   "outputs": [],
   "source": [
    "#model.fit(x,y)\n",
    "y_pred=model.predict(test_x)\n",
    "submission=pd.DataFrame({'Id':test['Id'],'quality':y_pred})\n",
    "submission.to_csv('submission.csv',index=False)"
   ]
  }
 ],
 "metadata": {
  "kernelspec": {
   "display_name": "Python 3",
   "language": "python",
   "name": "python3"
  },
  "language_info": {
   "codemirror_mode": {
    "name": "ipython",
    "version": 3
   },
   "file_extension": ".py",
   "mimetype": "text/x-python",
   "name": "python",
   "nbconvert_exporter": "python",
   "pygments_lexer": "ipython3",
   "version": "3.7.12"
  },
  "papermill": {
   "default_parameters": {},
   "duration": 13.319448,
   "end_time": "2023-02-06T06:33:29.391042",
   "environment_variables": {},
   "exception": null,
   "input_path": "__notebook__.ipynb",
   "output_path": "__notebook__.ipynb",
   "parameters": {},
   "start_time": "2023-02-06T06:33:16.071594",
   "version": "2.3.4"
  }
 },
 "nbformat": 4,
 "nbformat_minor": 5
}
